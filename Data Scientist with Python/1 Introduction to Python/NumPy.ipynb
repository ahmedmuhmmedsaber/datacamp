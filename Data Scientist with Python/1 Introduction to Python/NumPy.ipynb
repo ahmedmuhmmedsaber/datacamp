{
 "cells": [
  {
   "cell_type": "markdown",
   "id": "2c683dd6",
   "metadata": {},
   "source": [
    "## 1 Your First NumPy Array\n",
    "Import the numpy package as np, so that you can refer to numpy with np.\n",
    "Use np.array() to create a numpy array from baseball. Name this array np_baseball.\n",
    "Print out the type of np_baseball to check that you got it right."
   ]
  },
  {
   "cell_type": "code",
   "execution_count": 1,
   "id": "dbf291c2",
   "metadata": {},
   "outputs": [
    {
     "name": "stdout",
     "output_type": "stream",
     "text": [
      "<class 'numpy.ndarray'>\n"
     ]
    }
   ],
   "source": [
    "# Create list baseball\n",
    "baseball = [180, 215, 210, 210, 188, 176, 209, 200]\n",
    "\n",
    "# Import the numpy package as np\n",
    "\n",
    "import numpy as np\n",
    "\n",
    "# Create a numpy array from baseball: np_baseball\n",
    "\n",
    "np_baseball = np.array(baseball)\n",
    "\n",
    "# Print out type of np_baseball\n",
    "print(type(np_baseball))\n"
   ]
  },
  {
   "cell_type": "markdown",
   "id": "f3c81578",
   "metadata": {},
   "source": [
    "## 2 Baseball players' height\n",
    "Create a numpy array from height_in. Name this new array np_height_in.\n",
    "Print np_height_in.\n",
    "Multiply np_height_in with 0.0254 to convert all height measurements from inches to meters. Store the new values in a new array, np_height_m.\n",
    "Print out np_height_m and check if the output makes sense.\n"
   ]
  },
  {
   "cell_type": "code",
   "execution_count": 4,
   "id": "a88a08a4",
   "metadata": {},
   "outputs": [
    {
     "name": "stdout",
     "output_type": "stream",
     "text": [
      "[74 74 72 72 73 69 69 71 76 71 73 73 74 74 69 70 73 75 78 79 76 74 76 72\n",
      " 71 75 77 74 73 74 78 73 75 73 75 75 74 69 71 74 73 73 76 74 74 70 72 77\n",
      " 74 70 73 75 76 76 78 74 74 76 77 81 78 75 77 75 76 74 72 72 75 73 73 73\n",
      " 70 70 70 76 68 71 72 75 75 75 75 68 74 78 71 73 76 74 74 79 75 73 76 74\n",
      " 74 73 72 74 73 74 72 73 69 72 73 75 75 73 72 72 76 74 72 77 74 77 75 76\n",
      " 80 74 74 75 78 73 73 74 75 76 71 73 74 76 76 74 73 74 70 72 73 73 73 73\n",
      " 71 74 74 72 74 71 74 73 75 75 79 73 75 76 74 76 78 74 76 72 74 76 74 75\n",
      " 78 75 72 74 72 74 70 71 70 75 71 71 73 72 71 73 72 75 74 74 75 73 77 73\n",
      " 76 75 74 76 75 73 71 76]\n",
      "[1.8796 1.8796 1.8288 1.8288 1.8542 1.7526 1.7526 1.8034 1.9304 1.8034\n",
      " 1.8542 1.8542 1.8796 1.8796 1.7526 1.778  1.8542 1.905  1.9812 2.0066\n",
      " 1.9304 1.8796 1.9304 1.8288 1.8034 1.905  1.9558 1.8796 1.8542 1.8796\n",
      " 1.9812 1.8542 1.905  1.8542 1.905  1.905  1.8796 1.7526 1.8034 1.8796\n",
      " 1.8542 1.8542 1.9304 1.8796 1.8796 1.778  1.8288 1.9558 1.8796 1.778\n",
      " 1.8542 1.905  1.9304 1.9304 1.9812 1.8796 1.8796 1.9304 1.9558 2.0574\n",
      " 1.9812 1.905  1.9558 1.905  1.9304 1.8796 1.8288 1.8288 1.905  1.8542\n",
      " 1.8542 1.8542 1.778  1.778  1.778  1.9304 1.7272 1.8034 1.8288 1.905\n",
      " 1.905  1.905  1.905  1.7272 1.8796 1.9812 1.8034 1.8542 1.9304 1.8796\n",
      " 1.8796 2.0066 1.905  1.8542 1.9304 1.8796 1.8796 1.8542 1.8288 1.8796\n",
      " 1.8542 1.8796 1.8288 1.8542 1.7526 1.8288 1.8542 1.905  1.905  1.8542\n",
      " 1.8288 1.8288 1.9304 1.8796 1.8288 1.9558 1.8796 1.9558 1.905  1.9304\n",
      " 2.032  1.8796 1.8796 1.905  1.9812 1.8542 1.8542 1.8796 1.905  1.9304\n",
      " 1.8034 1.8542 1.8796 1.9304 1.9304 1.8796 1.8542 1.8796 1.778  1.8288\n",
      " 1.8542 1.8542 1.8542 1.8542 1.8034 1.8796 1.8796 1.8288 1.8796 1.8034\n",
      " 1.8796 1.8542 1.905  1.905  2.0066 1.8542 1.905  1.9304 1.8796 1.9304\n",
      " 1.9812 1.8796 1.9304 1.8288 1.8796 1.9304 1.8796 1.905  1.9812 1.905\n",
      " 1.8288 1.8796 1.8288 1.8796 1.778  1.8034 1.778  1.905  1.8034 1.8034\n",
      " 1.8542 1.8288 1.8034 1.8542 1.8288 1.905  1.8796 1.8796 1.905  1.8542\n",
      " 1.9558 1.8542 1.9304 1.905  1.8796 1.9304 1.905  1.8542 1.8034 1.9304]\n"
     ]
    }
   ],
   "source": [
    "# height_in is available as a regular list\n",
    "height_in = [74, 74, 72, 72, 73, 69, 69, 71, 76, 71, 73, 73, 74, 74, 69, 70, 73, 75, 78, 79, 76, 74, 76, 72, 71, 75, 77, 74, 73, 74, 78, 73, 75, 73, 75, 75, 74, 69, 71, 74, 73, 73, 76, 74, 74, 70, 72, 77, 74, 70, 73, 75, 76, 76, 78, 74, 74, 76, 77, 81, 78, 75, 77, 75, 76, 74, 72, 72, 75, 73, 73, 73, 70, 70, 70, 76, 68, 71, 72, 75, 75, 75, 75, 68, 74, 78, 71, 73, 76, 74, 74, 79, 75, 73, 76, 74, 74, 73, 72, 74, 73, 74, 72, 73, 69, 72, 73, 75, 75, 73, 72, 72, 76, 74, 72, 77, 74, 77, 75, 76, 80, 74, 74, 75, 78, 73, 73, 74, 75, 76, 71, 73, 74, 76, 76, 74, 73, 74, 70, 72, 73, 73, 73, 73, 71, 74, 74, 72, 74, 71, 74, 73, 75, 75, 79, 73, 75, 76, 74, 76, 78, 74, 76, 72, 74, 76, 74, 75, 78, 75, 72, 74, 72, 74, 70, 71, 70, 75, 71, 71, 73, 72, 71, 73, 72, 75, 74, 74, 75, 73, 77, 73, 76, 75, 74, 76, 75, 73, 71, 76]\n",
    "\n",
    "# Import numpy\n",
    "import numpy as np\n",
    "\n",
    "# Create a numpy array from height_in: np_height_in\n",
    "\n",
    "np_height_in = np.array(height_in)\n",
    "\n",
    "# Print out np_height_in\n",
    "print(np_height_in)\n",
    "# Convert np_height_in to m: np_height_m\n",
    "\n",
    "np_height_m = (np_height_in * 0.0254)\n",
    "\n",
    "# Print np_height_m\n",
    "print(np_height_m)"
   ]
  },
  {
   "cell_type": "markdown",
   "id": "8c27b84c",
   "metadata": {},
   "source": [
    "## 3 Baseball player's BMI\n",
    "Create a numpy array from the weight_lb list with the correct units. Multiply by 0.453592 to go from pounds to kilograms. Store the resulting numpy array as np_weight_kg.\n",
    "Use np_height_m and np_weight_kg to calculate the BMI of each player. Use the following equation:\n",
    " \n",
    "Save the resulting numpy array as bmi.\n",
    "Print out bmi."
   ]
  },
  {
   "cell_type": "code",
   "execution_count": 5,
   "id": "67374ec8",
   "metadata": {},
   "outputs": [
    {
     "name": "stdout",
     "output_type": "stream",
     "text": [
      "[23.11037639 27.60406069 28.48080465 28.48080465 24.80333518 25.99036864\n",
      " 30.86356276 27.89402921 28.11789135 25.10462629 24.80333518 23.7478741\n",
      " 23.75233129 20.54255679 26.58105883 26.54444207 24.93526781 23.12315842\n",
      " 25.30771077 25.91025019 24.95310704 29.52992539 23.73588231 24.41211827\n",
      " 26.77826804 28.12276025 24.07202028 25.03624109 24.01173937 24.13750423\n",
      " 23.11206463 23.7478741  24.99800911 26.38652678 30.62256116 29.99761093\n",
      " 27.60406069 27.31942158 24.40727556 25.54980501 26.38652678 28.36551629\n",
      " 24.34449467 26.32015089 26.44854187 26.68792554 25.4971013  26.08790375\n",
      " 26.96210579 27.97927677 26.38652678 24.99800911 25.80516435 27.26583403\n",
      " 24.26766786 26.32015089 28.24601559 23.73588231 23.71627614 27.86129273\n",
      " 26.34775368 33.74731229 23.71627614 26.24790956 23.12726994 28.24601559\n",
      " 24.41211827 27.80269025 26.24790956 29.02517946 27.83778576 26.38652678\n",
      " 25.82702472 27.26185942 24.39219001 27.99616887 23.56740829 25.80197702\n",
      " 25.09023267 24.99800911 28.12276025 28.12276025 27.49781002 24.32764727\n",
      " 26.32015089 27.15667594 34.86753651 27.70585312 23.12726994 20.54255679\n",
      " 25.67819599 23.09391864 27.74779011 25.72686361 24.95310704 28.24601559\n",
      " 28.24601559 22.42854777 25.09023267 25.03624109 29.02517946 29.52992539\n",
      " 24.41211827 29.02517946 26.58105883 24.41211827 22.42854777 26.24790956\n",
      " 26.87285979 26.38652678 28.88767328 24.41211827 23.37071489 30.17188029\n",
      " 25.09023267 27.86662446 26.96210579 26.32506651 26.24790956 27.99616887\n",
      " 24.16799709 23.11037639 24.39428619 24.99800911 24.26766786 25.59493098\n",
      " 23.7478741  24.39428619 29.99761093 24.34449467 27.61508891 26.38652678\n",
      " 25.03624109 25.56171941 26.77894414 24.39428619 27.70585312 28.88797049\n",
      " 25.82702472 25.09023267 22.42854777 24.40753727 24.40753727 23.7478741\n",
      " 24.82568599 22.46842149 25.67819599 27.66706737 27.09049677 26.49932775\n",
      " 26.96210579 25.06720044 23.74810865 23.12315842 32.66944589 23.08821094\n",
      " 23.12315842 24.34449467 28.24601559 20.69282047 25.4232711  24.39428619\n",
      " 26.77894414 27.80269025 25.67819599 30.43061834 28.88797049 26.87285979\n",
      " 24.26766786 26.87285979 26.44646146 25.67819599 26.31083858 28.24601559\n",
      " 25.82702472 25.10462629 24.39219001 24.37305888 25.10462629 23.70992483\n",
      " 27.17812259 27.80269025 27.89402921 29.68484263 27.26019873 28.12276025\n",
      " 29.91509833 23.11037639 28.12276025 23.7478741  26.08790375 23.7478741\n",
      " 28.84822619 26.87285979 24.39428619 28.60478124 23.74810865 23.7478741\n",
      " 23.01257409 23.73588231]\n"
     ]
    }
   ],
   "source": [
    "# height_in and weight_lb are available as regular lists\n",
    "weight_lb = [180, 215, 210, 210, 188, 176, 209, 200, 231, 180, 188, 180, 185, 160, 180, 185, 189, 185, 219, 230, 205, 230, 195, 180, 192, 225, 203, 195, 182, 188, 200, 180, 200, 200, 245, 240, 215, 185, 175, 199, 200, 215, 200, 205, 206, 186, 188, 220, 210, 195, 200, 200, 212, 224, 210, 205, 220, 195, 200, 260, 228, 270, 200, 210, 190, 220, 180, 205, 210, 220, 211, 200, 180, 190, 170, 230, 155, 185, 185, 200, 225, 225, 220, 160, 205, 235, 250, 210, 190, 160, 200, 205, 222, 195, 205, 220, 220, 170, 185, 195, 220, 230, 180, 220, 180, 180, 170, 210, 215, 200, 213, 180, 192, 235, 185, 235, 210, 222, 210, 230, 220, 180, 190, 200, 210, 194, 180, 190, 240, 200, 198, 200, 195, 210, 220, 190, 210, 225, 180, 185, 170, 185, 185, 180, 178, 175, 200, 204, 211, 190, 210, 190, 190, 185, 290, 175, 185, 200, 220, 170, 220, 190, 220, 205, 200, 250, 225, 215, 210, 215, 195, 200, 194, 220, 180, 180, 170, 195, 180, 170, 206, 205, 200, 225, 201, 225, 233, 180, 225, 180, 220, 180, 237, 215, 190, 235, 190, 180, 165, 195]\n",
    "\n",
    "# Import numpy\n",
    "import numpy as np\n",
    "\n",
    "# Create array from height_in with metric units: np_height_m\n",
    "np_height_m = np.array(height_in) * 0.0254\n",
    "\n",
    "# Create array from weight_lb with metric units: np_weight_kg\n",
    "\n",
    "np_weight_kg = np.array(weight_lb) * 0.453592\n",
    "# Calculate the BMI: bmi\n",
    "bmi = np_weight_kg / np_height_m ** 2\n",
    "\n",
    "\n",
    "# Print out bmi\n",
    "print (bmi)"
   ]
  },
  {
   "cell_type": "markdown",
   "id": "413c9f53",
   "metadata": {},
   "source": [
    "## 4 Lightweight baseball players\n",
    "Create a boolean numpy array: the element of the array should be True if the corresponding baseball player's BMI is below 21. You can use the < operator for this. Name the array light.\n",
    "Print the array light.\n",
    "Print out a numpy array with the BMIs of all baseball players whose BMI is below 21. Use light inside square brackets to do a selection on the bmi array."
   ]
  },
  {
   "cell_type": "code",
   "execution_count": 6,
   "id": "539364a9",
   "metadata": {},
   "outputs": [
    {
     "name": "stdout",
     "output_type": "stream",
     "text": [
      "light=  [False False False False False False False False False False False False\n",
      " False  True False False False False False False False False False False\n",
      " False False False False False False False False False False False False\n",
      " False False False False False False False False False False False False\n",
      " False False False False False False False False False False False False\n",
      " False False False False False False False False False False False False\n",
      " False False False False False False False False False False False False\n",
      " False False False False False  True False False False False False False\n",
      " False False False False False False False False False False False False\n",
      " False False False False False False False False False False False False\n",
      " False False False False False False False False False False False False\n",
      " False False False False False False False False False False False False\n",
      " False False False False False False False False False False False False\n",
      " False False False  True False False False False False False False False\n",
      " False False False False False False False False False False False False\n",
      " False False False False False False False False False False False False\n",
      " False False False False False False False False]\n",
      "light2=  [False False False False False False False False False False False False\n",
      " False  True False False False False False False False False False False\n",
      " False False False False False False False False False False False False\n",
      " False False False False False False False False False False False False\n",
      " False False False False False False False False False False False False\n",
      " False False False False False False False False False False False False\n",
      " False False False False False False False False False False False False\n",
      " False False False False False  True False False False False False False\n",
      " False False False False False False False False False False False False\n",
      " False False False False False False False False False False False False\n",
      " False False False False False False False False False False False False\n",
      " False False False False False False False False False False False False\n",
      " False False False False False False False False False False False False\n",
      " False False False  True False False False False False False False False\n",
      " False False False False False False False False False False False False\n",
      " False False False False False False False False False False False False\n",
      " False False False False False False False False]\n",
      "light3=  [20.54255679 20.54255679 20.69282047]\n",
      "bmi_light=  [20.54255679 20.54255679 20.69282047]\n"
     ]
    }
   ],
   "source": [
    "# height_in and weight_lb are available as a regular lists\n",
    "\n",
    "# Import numpy\n",
    "import numpy as np\n",
    "\n",
    "# Calculate the BMI: bmi\n",
    "np_height_m = np.array(height_in) * 0.0254\n",
    "np_weight_kg = np.array(weight_lb) * 0.453592\n",
    "bmi = np_weight_kg / np_height_m ** 2\n",
    "\n",
    "# Create the light array\n",
    "\n",
    "light = bmi < 21\n",
    "light2 = np.array(bmi < 21)\n",
    "light3 = bmi[bmi < 21]\n",
    "\n",
    "# Print out light\n",
    "print(\"light= \",light)\n",
    "print(\"light2= \",light2)\n",
    "print(\"light3= \", light3)\n",
    "\n",
    "# Print out BMIs of all baseball players whose BMI is below 21\n",
    "print(\"bmi_light= \", bmi[light])\n"
   ]
  },
  {
   "cell_type": "code",
   "execution_count": null,
   "id": "24d6acfa",
   "metadata": {},
   "outputs": [],
   "source": []
  },
  {
   "cell_type": "markdown",
   "id": "1e2647ef",
   "metadata": {},
   "source": [
    "## 5 NumPy Side Effects\n",
    "\n",
    "Possible Answers\n",
    "\n",
    "np.array([True, 1, 2, 3, 4, False])\n",
    "\n",
    "#### np.array([4, 3, 0]) + np.array([0, 2, 2])\n",
    "\n",
    "np.array([1, 1, 2]) + np.array([3, 4, -1])\n",
    "\n",
    "np.array([0, 1, 2, 3, 4, 5])"
   ]
  },
  {
   "cell_type": "code",
   "execution_count": null,
   "id": "e3feccf7",
   "metadata": {},
   "outputs": [],
   "source": []
  },
  {
   "cell_type": "markdown",
   "id": "b521e462",
   "metadata": {},
   "source": [
    "## 6 Subsetting NumPy Arrays\n",
    "Subset np_weight_lb by printing out the element at index 50.\n",
    "Print out a sub-array of np_height_in that contains the elements at index 100 up to and including index 110."
   ]
  },
  {
   "cell_type": "code",
   "execution_count": 15,
   "id": "45889c34",
   "metadata": {},
   "outputs": [
    {
     "name": "stdout",
     "output_type": "stream",
     "text": [
      "200\n",
      "[73 74 72 73 69 72 73 75 75 73 72]\n"
     ]
    }
   ],
   "source": [
    "# height_in and weight_lb are available as a regular lists\n",
    "\n",
    "# Import numpy\n",
    "import numpy as np\n",
    "\n",
    "# Store weight and height lists as numpy arrays\n",
    "np_weight_lb = np.array(weight_lb)\n",
    "np_height_in = np.array(height_in)\n",
    "\n",
    "# Print out the weight at index 50\n",
    "print(np_weight_lb[50])\n",
    "\n",
    "# Print out sub-array of np_height_in: index 100 up to and including index 110\n",
    "print(np_height_in[100:111])"
   ]
  },
  {
   "cell_type": "markdown",
   "id": "3cd0bd72",
   "metadata": {},
   "source": [
    "## 7 Your First 2D NumPy Array\n",
    "Use np.array() to create a 2D numpy array from baseball. Name it np_baseball.\n",
    "Print out the type of np_baseball.\n",
    "Print out the shape attribute of np_baseball. Use np_baseball.shape."
   ]
  },
  {
   "cell_type": "code",
   "execution_count": 14,
   "id": "25036591",
   "metadata": {},
   "outputs": [
    {
     "name": "stdout",
     "output_type": "stream",
     "text": [
      "<class 'numpy.ndarray'>\n",
      "(4, 2)\n"
     ]
    }
   ],
   "source": [
    "# Create baseball, a list of lists\n",
    "baseball = [[180, 78.4],\n",
    "            [215, 102.7],\n",
    "            [210, 98.5],\n",
    "            [188, 75.2]]\n",
    "\n",
    "# Import numpy\n",
    "import numpy as np\n",
    "\n",
    "# Create a 2D numpy array from baseball: np_baseball\n",
    "\n",
    "\n",
    "np_baseball = np.array(baseball)\n",
    "\n",
    "# Print out the type of np_baseball\n",
    "print(type(np_baseball))\n",
    "\n",
    "# Print out the shape of np_baseball\n",
    "print(np_baseball.shape)\n"
   ]
  },
  {
   "cell_type": "markdown",
   "id": "4b1492a6",
   "metadata": {},
   "source": [
    "## 8 Baseball data in 2D form \n",
    "Use np.array() to create a 2D numpy array from baseball. Name it np_baseball.\n",
    "Print out the shape attribute of np_baseball."
   ]
  },
  {
   "cell_type": "code",
   "execution_count": 13,
   "id": "6f4a7545",
   "metadata": {},
   "outputs": [
    {
     "name": "stdout",
     "output_type": "stream",
     "text": [
      "(8,)\n"
     ]
    }
   ],
   "source": [
    "# baseball is available as a regular list of lists\n",
    "\n",
    "# Import numpy package\n",
    "import numpy as np\n",
    "\n",
    "# Create a 2D numpy array from baseball: np_baseball\n",
    "\n",
    "np_baseball = np.array(baseball)\n",
    "\n",
    "# Print out the shape of np_baseball\n",
    "print(np_baseball.shape)\n"
   ]
  },
  {
   "cell_type": "markdown",
   "id": "a52a3ff2",
   "metadata": {},
   "source": [
    "## 9 Subsetting 2D NumPy Arrays\n",
    "Print out the 50th row of np_baseball.\n",
    "Make a new variable, np_weight_lb, containing the entire second column of np_baseball.\n",
    "Select the height (first column) of the 124th baseball player in np_baseball and print it out."
   ]
  },
  {
   "cell_type": "code",
   "execution_count": 18,
   "id": "ef436f18",
   "metadata": {},
   "outputs": [
    {
     "name": "stdout",
     "output_type": "stream",
     "text": [
      "[ 70 195]\n",
      "[180 215 210 210 188 176 209 200 231 180 188 180 185 160 180 185 189 185\n",
      " 219 230 205 230 195 180 192 225 203 195 182 188 200 180 200 200 245 240\n",
      " 215 185 175 199 200 215 200 205 206 186 188 220 210 195 200 200 212 224\n",
      " 210 205 220 195 200 260 228 270 200 210 190 220 180 205 210 220 211 200\n",
      " 180 190 170 230 155 185 185 200 225 225 220 160 205 235 250 210 190 160\n",
      " 200 205 222 195 205 220 220 170 185 195 220 230 180 220 180 180 170 210\n",
      " 215 200 213 180 192 235 185 235 210 222 210 230 220 180 190 200 210 194\n",
      " 180 190 240 200 198 200 195 210 220 190 210 225 180 185 170 185 185 180\n",
      " 178 175 200 204 211 190 210 190 190 185 290 175 185 200 220 170 220 190\n",
      " 220 205 200 250 225 215 210 215 195 200 194 220 180 180 170 195 180 170\n",
      " 206 205 200 225 201 225 233 180 225 180 220 180 237 215 190 235 190 180\n",
      " 165 195]\n",
      "75\n"
     ]
    }
   ],
   "source": [
    "# baseball is available as a regular list of lists\n",
    "baseball = [[74, 180], [74, 215], [72, 210], [72, 210], [73, 188], [69, 176], [69, 209], [71, 200], [76, 231], [71, 180], [73, 188], [73, 180], [74, 185], [74, 160], [69, 180], [70, 185], [73, 189], [75, 185], [78, 219], [79, 230], [76, 205], [74, 230], [76, 195], [72, 180], [71, 192], [75, 225], [77, 203], [74, 195], [73, 182], [74, 188], [78, 200], [73, 180], [75, 200], [73, 200], [75, 245], [75, 240], [74, 215], [69, 185], [71, 175], [74, 199], [73, 200], [73, 215], [76, 200], [74, 205], [74, 206], [70, 186], [72, 188], [77, 220], [74, 210], [70, 195], [73, 200], [75, 200], [76, 212], [76, 224], [78, 210], [74, 205], [74, 220], [76, 195], [77, 200], [81, 260], [78, 228], [75, 270], [77, 200], [75, 210], [76, 190], [74, 220], [72, 180], [72, 205], [75, 210], [73, 220], [73, 211], [73, 200], [70, 180], [70, 190], [70, 170], [76, 230], [68, 155], [71, 185], [72, 185], [75, 200], [75, 225], [75, 225], [75, 220], [68, 160], [74, 205], [78, 235], [71, 250], [73, 210], [76, 190], [74, 160], [74, 200], [79, 205], [75, 222], [73, 195], [76, 205], [74, 220], [74, 220], [73, 170], [72, 185], [74, 195], [73, 220], [74, 230], [72, 180], [73, 220], [69, 180], [72, 180], [73, 170], [75, 210], [75, 215], [73, 200], [72, 213], [72, 180], [76, 192], [74, 235], [72, 185], [77, 235], [74, 210], [77, 222], [75, 210], [76, 230], [80, 220], [74, 180], [74, 190], [75, 200], [78, 210], [73, 194], [73, 180], [74, 190], [75, 240], [76, 200], [71, 198], [73, 200], [74, 195], [76, 210], [76, 220], [74, 190], [73, 210], [74, 225], [70, 180], [72, 185], [73, 170], [73, 185], [73, 185], [73, 180], [71, 178], [74, 175], [74, 200], [72, 204], [74, 211], [71, 190], [74, 210], [73, 190], [75, 190], [75, 185], [79, 290], [73, 175], [75, 185], [76, 200], [74, 220], [76, 170], [78, 220], [74, 190], [76, 220], [72, 205], [74, 200], [76, 250], [74, 225], [75, 215], [78, 210], [75, 215], [72, 195], [74, 200], [72, 194], [74, 220], [70, 180], [71, 180], [70, 170], [75, 195], [71, 180], [71, 170], [73, 206], [72, 205], [71, 200], [73, 225], [72, 201], [75, 225], [74, 233], [74, 180], [75, 225], [73, 180], [77, 220], [73, 180], [76, 237], [75, 215], [74, 190], [76, 235], [75, 190], [73, 180], [71, 165], [76, 195]]\n",
    "\n",
    "# Import numpy package\n",
    "import numpy as np\n",
    "\n",
    "# Create np_baseball (2 cols)\n",
    "np_baseball = np.array(baseball)\n",
    "\n",
    "# Print out the 50th row of np_baseball\n",
    "\n",
    "print(np_baseball[49, :])\n",
    "\n",
    "# Select the entire second column of np_baseball: np_weight_lb\n",
    "np_weight_lb = np_baseball[:, 1]\n",
    "print(np_weight_lb)\n",
    "\n",
    "# Print out height of 124th player\n",
    "print(np_baseball[123, 0])\n"
   ]
  },
  {
   "cell_type": "markdown",
   "id": "401c6dba",
   "metadata": {},
   "source": [
    "## 10 2D Arithmetic\n",
    "You managed to get hold of the changes in height, weight and age of all baseball players. It is available as a 2D numpy array, updated. Add np_baseball and updated and print out the result.\n",
    "You want to convert the units of height and weight to metric (meters and kilograms, respectively). As a first step, create a numpy array with three values: 0.0254, 0.453592 and 1. Name this array conversion.\n",
    "Multiply np_baseball with conversion and print out the result."
   ]
  },
  {
   "cell_type": "code",
   "execution_count": null,
   "id": "8a6b3dea",
   "metadata": {},
   "outputs": [],
   "source": []
  },
  {
   "cell_type": "code",
   "execution_count": null,
   "id": "cbcb7cb6",
   "metadata": {},
   "outputs": [],
   "source": [
    "# baseball is available as a regular list of lists\n",
    "# updated is available as 2D numpy array\n",
    "\n",
    "# Import numpy package\n",
    "import numpy as np\n",
    "\n",
    "# Create np_baseball (3 cols)\n",
    "np_baseball = np.array(baseball)\n",
    "print(np_baseball)\n",
    "print(updated)\n",
    "# Print out addition of np_baseball and updated\n",
    "print(np_baseball + updated)\n",
    "\n",
    "# Create numpy array: conversion\n",
    "conversion = np.array([0.0254, 0.453592, 1])\n",
    "\n",
    "# Print out product of np_baseball and conversion\n",
    "print(np_baseball * conversion)\n"
   ]
  },
  {
   "cell_type": "markdown",
   "id": "9d130e88",
   "metadata": {},
   "source": [
    "## 11 Average versus median\n",
    "Create numpy array np_height_in that is equal to first column of np_baseball.\n",
    "Print out the mean of np_height_in.\n",
    "Print out the median of np_height_in."
   ]
  },
  {
   "cell_type": "code",
   "execution_count": null,
   "id": "fd0996a2",
   "metadata": {},
   "outputs": [],
   "source": []
  },
  {
   "cell_type": "code",
   "execution_count": 19,
   "id": "fb964027",
   "metadata": {},
   "outputs": [
    {
     "name": "stdout",
     "output_type": "stream",
     "text": [
      "Average: 73.83\n",
      "Median: 74.0\n",
      "Standard Deviation: 2.2893448844593074\n",
      "Correlation: [[1.         0.55676088]\n",
      " [0.55676088 1.        ]]\n"
     ]
    }
   ],
   "source": [
    "avg = np.mean(np_baseball[:,0])\n",
    "print(\"Average: \" + str(avg))\n",
    "\n",
    "# Print median height. Replace 'None'\n",
    "med = np.median(np_baseball[:,0])\n",
    "print(\"Median: \" + str(med))\n",
    "\n",
    "# Print out the standard deviation on height. Replace 'None'\n",
    "stddev = np.std(np_baseball[:,0])\n",
    "print(\"Standard Deviation: \" + str(stddev))\n",
    "\n",
    "# Print out correlation between first and second column. Replace 'None'\n",
    "corr = np.corrcoef(np_baseball[:,0], np_baseball[:,1])\n",
    "print(\"Correlation: \" + str(corr))"
   ]
  },
  {
   "cell_type": "code",
   "execution_count": null,
   "id": "dc9fac3f",
   "metadata": {},
   "outputs": [],
   "source": []
  },
  {
   "cell_type": "markdown",
   "id": "c4d711ef",
   "metadata": {},
   "source": [
    "## 12 Explore the baseball data\n",
    "The code to print out the mean height is already included. Complete the code for the median height. Replace None with the correct code.\n",
    "Use np.std() on the first column of np_baseball to calculate stddev. Replace None with the correct code.\n",
    "Do big players tend to be heavier? Use np.corrcoef() to store the correlation between the first and second column of np_baseball in corr. Replace None with the correct code.\n",
    "\n"
   ]
  },
  {
   "cell_type": "code",
   "execution_count": null,
   "id": "736d498e",
   "metadata": {},
   "outputs": [],
   "source": []
  },
  {
   "cell_type": "code",
   "execution_count": 20,
   "id": "dd295859",
   "metadata": {},
   "outputs": [
    {
     "name": "stdout",
     "output_type": "stream",
     "text": [
      "Average: 73.83\n",
      "Median: 74.0\n",
      "Standard Deviation: 2.2893448844593074\n",
      "Correlation: [[1.         0.55676088]\n",
      " [0.55676088 1.        ]]\n"
     ]
    }
   ],
   "source": [
    "# np_baseball is available\n",
    "avg = np.mean(np_baseball[:,0])\n",
    "print(\"Average: \" + str(avg))\n",
    "\n",
    "# Print median height. Replace 'None'\n",
    "med = np.median(np_baseball[:,0])\n",
    "print(\"Median: \" + str(med))\n",
    "\n",
    "# Print out the standard deviation on height. Replace 'None'\n",
    "stddev = np.std(np_baseball[:,0])\n",
    "print(\"Standard Deviation: \" + str(stddev))\n",
    "\n",
    "# Print out correlation between first and second column. Replace 'None'\n",
    "corr = np.corrcoef(np_baseball[:,0], np_baseball[:,1])\n",
    "print(\"Correlation: \" + str(corr))"
   ]
  },
  {
   "cell_type": "code",
   "execution_count": null,
   "id": "265d9a91",
   "metadata": {},
   "outputs": [],
   "source": []
  },
  {
   "cell_type": "markdown",
   "id": "03989ad5",
   "metadata": {},
   "source": [
    "## 13 Blend it all together\n",
    "Extract all the heights of the goalkeepers. You can use a little trick here: use np_positions == 'GK' as an index for np_heights. Assign the result to gk_heights.\n",
    "Extract all the heights of all the other players. This time use np_positions != 'GK' as an index for np_heights. Assign the result to other_heights.\n",
    "Print out the median height of the goalkeepers using np.median(). Replace None with the correct code.\n",
    "Do the same for the other players. Print out their median height. Replace None with the correct code."
   ]
  },
  {
   "cell_type": "code",
   "execution_count": null,
   "id": "42abc1bb",
   "metadata": {},
   "outputs": [],
   "source": []
  },
  {
   "cell_type": "code",
   "execution_count": null,
   "id": "fcc2543a",
   "metadata": {},
   "outputs": [],
   "source": [
    "# heights and positions are available as lists\n",
    "\n",
    "# Import numpy\n",
    "import numpy as np\n",
    "\n",
    "# Convert positions and heights to numpy arrays: np_positions, np_heights\n",
    "np_positions = np.array(positions)\n",
    "np_heights = np.array(heights)\n",
    "\n",
    "\n",
    "# Heights of the goalkeepers: gk_heights\n",
    "gk_heights = np_heights[np_positions == 'GK']\n",
    "\n",
    "\n",
    "# Heights of the other players: other_heights\n",
    "other_heights = np_heights[np_positions != 'GK']\n",
    "\n",
    "# Print out the median height of goalkeepers. Replace 'None'\n",
    "print(\"Median height of goalkeepers: \" + str(np.median(gk_heights)))\n",
    "\n",
    "# Print out the median height of other players. Replace 'None'\n",
    "print(\"Median height of other players: \" + str(np.median(other_heights)))"
   ]
  }
 ],
 "metadata": {
  "kernelspec": {
   "display_name": "Python 3 (ipykernel)",
   "language": "python",
   "name": "python3"
  },
  "language_info": {
   "codemirror_mode": {
    "name": "ipython",
    "version": 3
   },
   "file_extension": ".py",
   "mimetype": "text/x-python",
   "name": "python",
   "nbconvert_exporter": "python",
   "pygments_lexer": "ipython3",
   "version": "3.10.9"
  }
 },
 "nbformat": 4,
 "nbformat_minor": 5
}
